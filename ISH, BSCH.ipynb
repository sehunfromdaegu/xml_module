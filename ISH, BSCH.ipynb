{
 "cells": [
  {
   "cell_type": "code",
   "execution_count": 1,
   "metadata": {},
   "outputs": [],
   "source": [
    "import numpy as np\n",
    "import matplotlib.pyplot as plt\n",
    "from xml_module_muse import waves_from_xml_file, measurements_from_xml_file\n",
    "\n",
    "import pandas as pd\n",
    "\n",
    "# for extract features\n",
    "import xml.etree.ElementTree as et\n"
   ]
  },
  {
   "cell_type": "code",
   "execution_count": 2,
   "metadata": {},
   "outputs": [],
   "source": [
    "path = './ECG Sample 4 Hospitals/1. ISH/ECG/2024020809131591.xml'\n",
    "# path = './ECG Sample 4 Hospitals/2. BSCH/72696/202401151045356632_wfmkbyqibqd.xml'"
   ]
  },
  {
   "cell_type": "code",
   "execution_count": 3,
   "metadata": {},
   "outputs": [
    {
     "data": {
      "text/plain": [
       "[array([-0.02928, -0.02928, -0.02928, ...,  0.08784,  0.08784,  0.08784]),\n",
       " array([-0.06832, -0.06832, -0.06832, ...,  0.13664,  0.13664,  0.13664]),\n",
       " array([-0.03904, -0.03904, -0.03904, ...,  0.0488 ,  0.0488 ,  0.0488 ]),\n",
       " array([ 0.0488 ,  0.0488 ,  0.0488 , ..., -0.11224, -0.11224, -0.11224]),\n",
       " array([0.00488, 0.00488, 0.00488, ..., 0.01952, 0.01952, 0.01952]),\n",
       " array([-0.05368, -0.05368, -0.05368, ...,  0.09272,  0.09272,  0.09272]),\n",
       " array([-0.05856, -0.05856, -0.05856, ...,  0.23424,  0.23424,  0.23424]),\n",
       " array([-0.0976 , -0.0976 , -0.0976 , ..., -0.20496, -0.20496, -0.20496]),\n",
       " array([-0.0488 , -0.0488 , -0.0488 , ...,  0.02928,  0.02928,  0.02928]),\n",
       " array([-0.03904, -0.03904, -0.03904, ..., -0.00976, -0.00976, -0.00976]),\n",
       " array([-0.07808, -0.07808, -0.07808, ...,  0.06832,  0.06832,  0.06832]),\n",
       " array([-0.06832, -0.06832, -0.06832, ...,  0.03904,  0.03904,  0.03904])]"
      ]
     },
     "execution_count": 3,
     "metadata": {},
     "output_type": "execute_result"
    }
   ],
   "source": [
    "waves_from_xml_file(path)"
   ]
  },
  {
   "cell_type": "code",
   "execution_count": 4,
   "metadata": {},
   "outputs": [
    {
     "data": {
      "text/plain": [
       "['68', '166', '108', '424', '450', '2', '71', '43']"
      ]
     },
     "execution_count": 4,
     "metadata": {},
     "output_type": "execute_result"
    }
   ],
   "source": [
    "measurements_from_xml_file(path)"
   ]
  },
  {
   "cell_type": "code",
   "execution_count": null,
   "metadata": {},
   "outputs": [],
   "source": []
  }
 ],
 "metadata": {
  "kernelspec": {
   "display_name": "base",
   "language": "python",
   "name": "python3"
  },
  "language_info": {
   "codemirror_mode": {
    "name": "ipython",
    "version": 3
   },
   "file_extension": ".py",
   "mimetype": "text/x-python",
   "name": "python",
   "nbconvert_exporter": "python",
   "pygments_lexer": "ipython3",
   "version": "3.9.18"
  }
 },
 "nbformat": 4,
 "nbformat_minor": 2
}
