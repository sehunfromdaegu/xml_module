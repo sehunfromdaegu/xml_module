{
 "cells": [
  {
   "cell_type": "code",
   "execution_count": 1,
   "metadata": {},
   "outputs": [],
   "source": [
    "import numpy as np\n",
    "import matplotlib.pyplot as plt\n",
    "import glob,sys,os\n",
    "from xml_module import waves_from_xml_file_SNUB\n",
    "from xml_module_HY_features import measurements_from_xml, descriptions_xml\n",
    "import pandas as pd\n",
    "\n",
    "# for extract features\n",
    "import xml.etree.ElementTree as et\n"
   ]
  },
  {
   "cell_type": "code",
   "execution_count": 2,
   "metadata": {},
   "outputs": [
    {
     "data": {
      "text/plain": [
       "['SINUS RHYTHM normal P axis, V-rate  50- 99',\n",
       " 'MULTIPLE VENTRICULAR PREMATURE COMPLEXES V complexes w/ short R-R intervls',\n",
       " 'RBBB AND LAFB QRSd >120mS, axis(-40,240)',\n",
       " 'BASELINE WANDER IN LEAD(S) V1,V2,V5,V6',\n",
       " '- ABNORMAL ECG -',\n",
       " '*',\n",
       " '*',\n",
       " '*',\n",
       " '*']"
      ]
     },
     "execution_count": 2,
     "metadata": {},
     "output_type": "execute_result"
    }
   ],
   "source": [
    "path = './ECG Sample 4 Hospitals/4. HY/f6f51700-b41c-11ee-4823-00c68da90029.xml'\n",
    "xml_ns = {'hy':'http://www3.medical.philips.com'}\n",
    "root = et.parse(path)\n",
    "descriptions_xml(root)"
   ]
  },
  {
   "cell_type": "code",
   "execution_count": 3,
   "metadata": {},
   "outputs": [
    {
     "data": {
      "text/plain": [
       "['56', '190', '144', '468', '452', '0', '-11', '18']"
      ]
     },
     "execution_count": 3,
     "metadata": {},
     "output_type": "execute_result"
    }
   ],
   "source": [
    "measurements_from_xml(root)\n"
   ]
  },
  {
   "cell_type": "code",
   "execution_count": 4,
   "metadata": {},
   "outputs": [
    {
     "data": {
      "text/plain": [
       "[array([-120., -120., -120., ...,    0.,    0.,    0.]),\n",
       " array([-458., -461., -465., ...,    0.,    0.,    0.]),\n",
       " array([-338., -341., -345., ...,    0.,    0.,    0.]),\n",
       " array([289. , 290.5, 292.5, ...,  -0. ,  -0. ,  -0. ]),\n",
       " array([109. , 110.5, 112.5, ...,   0. ,   0. ,   0. ]),\n",
       " array([-398., -401., -405., ...,    0.,    0.,    0.]),\n",
       " array([954., 954., 955., ...,   0.,   0.,   0.]),\n",
       " array([-294., -290., -287., ...,    0.,    0.,    0.]),\n",
       " array([182., 182., 182., ...,   0.,   0.,   0.]),\n",
       " array([951., 951., 951., ...,   0.,   0.,   0.]),\n",
       " array([699., 700., 701., ...,   0.,   0.,   0.]),\n",
       " array([454., 455., 456., ...,   0.,   0.,   0.])]"
      ]
     },
     "execution_count": 4,
     "metadata": {},
     "output_type": "execute_result"
    }
   ],
   "source": [
    "wave=waves_from_xml_file_SNUB(path)\n",
    "wave"
   ]
  },
  {
   "cell_type": "code",
   "execution_count": null,
   "metadata": {},
   "outputs": [],
   "source": []
  }
 ],
 "metadata": {
  "kernelspec": {
   "display_name": "base",
   "language": "python",
   "name": "python3"
  },
  "language_info": {
   "codemirror_mode": {
    "name": "ipython",
    "version": 3
   },
   "file_extension": ".py",
   "mimetype": "text/x-python",
   "name": "python",
   "nbconvert_exporter": "python",
   "pygments_lexer": "ipython3",
   "version": "3.9.18"
  },
  "orig_nbformat": 4
 },
 "nbformat": 4,
 "nbformat_minor": 2
}
